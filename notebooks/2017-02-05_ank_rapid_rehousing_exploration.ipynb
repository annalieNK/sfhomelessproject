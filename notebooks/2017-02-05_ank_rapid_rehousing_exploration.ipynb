{
 "cells": [
  {
   "cell_type": "markdown",
   "metadata": {},
   "source": [
    "This notebook explores whether rapid rehousing is essentially a signal for getting into permanent housing.\n",
    "\n",
    "autor: annalie"
   ]
  },
  {
   "cell_type": "code",
   "execution_count": 1,
   "metadata": {
    "collapsed": false
   },
   "outputs": [],
   "source": [
    "%matplotlib inline\n",
    "%config InlineBackend.figure_format='retina'\n",
    "%load_ext autoreload\n",
    "# # the \"1\" means: always reload modules marked with \"%aimport\"\n",
    "%autoreload 2\n",
    "\n",
    "from __future__ import absolute_import, division, print_function\n",
    "from matplotlib import pyplot as plt\n",
    "import seaborn as sns\n",
    "import numpy as np\n",
    "import pandas as pd\n",
    "import os, sys\n",
    "# from tqdm import tqdm\n",
    "# import warnings\n",
    "\n",
    "# sns.set_context(\"poster\", font_scale=0.9)\n",
    "sns.set_context(\"notebook\", font_scale=1.0)\n",
    "pd.set_option('display.max_columns', 100)\n",
    "pd.set_option('display.max_rows', 1000)\n",
    "\n",
    "# add the data functions to the path\n",
    "annalie = 'data/c4sf/C4SF-datasci-homeless/raw/'\n",
    "datadir = os.path.join(os.getenv('HOME'), annalie)\n",
    "\n",
    "src_data_dir = os.path.join(os.getcwd(), os.pardir, 'src/data')\n",
    "sys.path.append(src_data_dir)\n",
    "\n",
    "# functions to load the data\n",
    "import dataset_homeless as ds"
   ]
  },
  {
   "cell_type": "code",
   "execution_count": 2,
   "metadata": {
    "collapsed": true
   },
   "outputs": [],
   "source": [
    "# load in and process the data in separate sheets\n",
    "\n",
    "df_client = ds.process_data_client(simplify_strings=True, datadir=datadir)\n",
    "\n",
    "df_enroll = ds.process_data_enrollment(simplify_strings=True, datadir=datadir)\n",
    "\n",
    "# Only keep rows with entry dates starting in 2012\n",
    "df_enroll = df_enroll[df_enroll['Entry Date'] >= '2012']\n",
    "# Only keep rows with exit dates before 2016-06-01\n",
    "df_enroll = df_enroll[df_enroll['Exit Date'] <= '2016-06-01']\n",
    "\n",
    "df_disability = ds.process_data_disability(simplify_strings=True, datadir=datadir)\n",
    "\n",
    "df_healthins = ds.process_data_healthins(simplify_strings=True, datadir=datadir)\n",
    "\n",
    "df_benefit = ds.process_data_benefit(simplify_strings=True, datadir=datadir)\n",
    "\n",
    "df_income = ds.process_data_income(simplify_strings=True, datadir=datadir)\n",
    "\n",
    "df_project = ds.process_data_project(simplify_strings=True, datadir=datadir)\n",
    "\n",
    "df_service = ds.process_data_service(simplify_strings=True, datadir=datadir)\n",
    "\n",
    "df_bedinv = ds.process_data_bedinventory(simplify_strings=True, datadir=datadir)\n",
    "\n",
    "# Join the client information with enrollment information.\n",
    "# Inner join because we want to only keep individuals\n",
    "# for whom we have both client and enrollment information.\n",
    "df = df_client.merge(df_enroll, how='inner', left_index=True, right_index=True)\n",
    "\n",
    "# just choose the first non-cash benefit; this is too simple!\n",
    "# TODO: join on the exact Project ID, and possible Date\n",
    "df = df.merge(df_benefit.reset_index().groupby(by=['Personal ID'])[['Non-Cash Benefit']].nth(0),\n",
    "              how='left', left_index=True, right_index=True)\n",
    "# # possible fix for above, but this isn't working properly (results in too many rows);\n",
    "# # probably need date too, but they do not align\n",
    "# df.reset_index().merge(df_benefit.reset_index()[['Personal ID', 'Project Entry ID', 'Non-Cash Benefit']].drop_duplicates(),\n",
    "#                        how='left',\n",
    "#                        on=['Personal ID', 'Project Entry ID'],\n",
    "#                       ).drop_duplicates().set_index('Personal ID')\n",
    "\n",
    "df['Non-Cash Benefit'] = df['Non-Cash Benefit'].fillna('None')\n",
    "\n",
    "# add information about their disability status\n",
    "# just choose the first disability; this is too simple!\n",
    "# TODO: join on the exact Project ID\n",
    "df = df.merge(df_disability.reset_index().groupby(by=['Personal ID'])[['Disability Type']].nth(0),\n",
    "              how='left', left_index=True, right_index=True)\n",
    "# # possible fix for above, but this isn't working properly (results in too many rows);\n",
    "# # probably need date too, but they do not align\n",
    "# df.reset_index().merge(df_disability.reset_index()[['Personal ID', 'Project Entry ID', 'Disability Type']].drop_duplicates(),\n",
    "#                        how='left',\n",
    "#                        on=['Personal ID', 'Project Entry ID'],\n",
    "#                       ).drop_duplicates().set_index('Personal ID')\n",
    "\n",
    "df['Disability Type'] = df['Disability Type'].fillna('None')\n",
    "\n",
    "# add Project Type Code to DataFrame\n",
    "df = df.merge(df_project[['Project Name',\n",
    "                          'Project Type Code',\n",
    "                          'Address City',\n",
    "                          'Address Postal Code',\n",
    "                         ]], left_on=['Project ID'], right_index=True)\n",
    "\n",
    "# sort by entry date\n",
    "df = df.sort_values('Entry Date')\n",
    "\n",
    "# rename the columns to have no spaces\n",
    "df = ds.rename_columns(df)"
   ]
  },
  {
   "cell_type": "code",
   "execution_count": 3,
   "metadata": {
    "collapsed": false
   },
   "outputs": [
    {
     "data": {
      "text/plain": [
       "11362"
      ]
     },
     "execution_count": 3,
     "metadata": {},
     "output_type": "execute_result"
    }
   ],
   "source": [
    "df_resetidx = df.reset_index()\n",
    "\n",
    "df.shape\n",
    "len(df_resetidx['Personal ID'].unique())"
   ]
  },
  {
   "cell_type": "markdown",
   "metadata": {},
   "source": [
    "    Number of records (ids) in df: 58209\n",
    "    Number of unique ids in df: 11362"
   ]
  },
  {
   "cell_type": "markdown",
   "metadata": {},
   "source": [
    "### Number of times in permanent housing"
   ]
  },
  {
   "cell_type": "code",
   "execution_count": 4,
   "metadata": {
    "collapsed": false
   },
   "outputs": [
    {
     "data": {
      "text/html": [
       "<div>\n",
       "<table border=\"1\" class=\"dataframe\">\n",
       "  <thead>\n",
       "    <tr style=\"text-align: right;\">\n",
       "      <th></th>\n",
       "      <th>race</th>\n",
       "      <th>ethnicity</th>\n",
       "      <th>gender</th>\n",
       "      <th>veteran_status</th>\n",
       "      <th>project_entry_id</th>\n",
       "      <th>client_age_at_entry</th>\n",
       "      <th>last_permanent_zip</th>\n",
       "      <th>entry_date</th>\n",
       "      <th>exit_date</th>\n",
       "      <th>project_id</th>\n",
       "      <th>housing_status_project_start</th>\n",
       "      <th>living_situation_before_program_entry</th>\n",
       "      <th>client_location</th>\n",
       "      <th>household_id</th>\n",
       "      <th>disabling_condition</th>\n",
       "      <th>continuously_homeless_one_year</th>\n",
       "      <th>times_homeless_past_three_years</th>\n",
       "      <th>months_homeless_this_time</th>\n",
       "      <th>chronic_homeless</th>\n",
       "      <th>in_permanent_housing</th>\n",
       "      <th>residential_move_in_date</th>\n",
       "      <th>domestic_violence_victim</th>\n",
       "      <th>months_ago_dv_occurred</th>\n",
       "      <th>dv_currently_fleeing</th>\n",
       "      <th>days_enrolled</th>\n",
       "      <th>days_to_residential_move_in</th>\n",
       "      <th>head_of_household</th>\n",
       "      <th>noncash_benefit</th>\n",
       "      <th>disability_type</th>\n",
       "      <th>project_name</th>\n",
       "      <th>project_type_code</th>\n",
       "      <th>address_city</th>\n",
       "      <th>address_postal_code</th>\n",
       "      <th>times_in_permanent_housing</th>\n",
       "    </tr>\n",
       "    <tr>\n",
       "      <th>Personal ID</th>\n",
       "      <th></th>\n",
       "      <th></th>\n",
       "      <th></th>\n",
       "      <th></th>\n",
       "      <th></th>\n",
       "      <th></th>\n",
       "      <th></th>\n",
       "      <th></th>\n",
       "      <th></th>\n",
       "      <th></th>\n",
       "      <th></th>\n",
       "      <th></th>\n",
       "      <th></th>\n",
       "      <th></th>\n",
       "      <th></th>\n",
       "      <th></th>\n",
       "      <th></th>\n",
       "      <th></th>\n",
       "      <th></th>\n",
       "      <th></th>\n",
       "      <th></th>\n",
       "      <th></th>\n",
       "      <th></th>\n",
       "      <th></th>\n",
       "      <th></th>\n",
       "      <th></th>\n",
       "      <th></th>\n",
       "      <th></th>\n",
       "      <th></th>\n",
       "      <th></th>\n",
       "      <th></th>\n",
       "      <th></th>\n",
       "      <th></th>\n",
       "      <th></th>\n",
       "    </tr>\n",
       "  </thead>\n",
       "  <tbody>\n",
       "    <tr>\n",
       "      <th>173781</th>\n",
       "      <td>white</td>\n",
       "      <td>latino</td>\n",
       "      <td>female</td>\n",
       "      <td>False</td>\n",
       "      <td>252608</td>\n",
       "      <td>34</td>\n",
       "      <td>93907</td>\n",
       "      <td>2014-02-28</td>\n",
       "      <td>2014-02-28</td>\n",
       "      <td>2104</td>\n",
       "      <td>atrisk</td>\n",
       "      <td>rental</td>\n",
       "      <td>NaN</td>\n",
       "      <td>252608</td>\n",
       "      <td>False</td>\n",
       "      <td>False</td>\n",
       "      <td>NaN</td>\n",
       "      <td>NaN</td>\n",
       "      <td>False</td>\n",
       "      <td>False</td>\n",
       "      <td>NaT</td>\n",
       "      <td>True</td>\n",
       "      <td>24</td>\n",
       "      <td>False</td>\n",
       "      <td>0</td>\n",
       "      <td>NaN</td>\n",
       "      <td>False</td>\n",
       "      <td>foodstamps</td>\n",
       "      <td>None</td>\n",
       "      <td>MOSBE SOP - Mobile Outreach Shelter Program - ...</td>\n",
       "      <td>streetoutreach</td>\n",
       "      <td>NaN</td>\n",
       "      <td>93933</td>\n",
       "      <td>0.0</td>\n",
       "    </tr>\n",
       "    <tr>\n",
       "      <th>173781</th>\n",
       "      <td>white</td>\n",
       "      <td>latino</td>\n",
       "      <td>female</td>\n",
       "      <td>False</td>\n",
       "      <td>314080</td>\n",
       "      <td>35</td>\n",
       "      <td>93907</td>\n",
       "      <td>2014-05-06</td>\n",
       "      <td>2014-09-30</td>\n",
       "      <td>2101</td>\n",
       "      <td>cat1homeless</td>\n",
       "      <td>emershelter</td>\n",
       "      <td>CA-506</td>\n",
       "      <td>314080</td>\n",
       "      <td>False</td>\n",
       "      <td>False</td>\n",
       "      <td>2</td>\n",
       "      <td>NaN</td>\n",
       "      <td>False</td>\n",
       "      <td>False</td>\n",
       "      <td>NaT</td>\n",
       "      <td>True</td>\n",
       "      <td>12</td>\n",
       "      <td>False</td>\n",
       "      <td>147</td>\n",
       "      <td>NaN</td>\n",
       "      <td>False</td>\n",
       "      <td>foodstamps</td>\n",
       "      <td>None</td>\n",
       "      <td>MOSBE SOP - Natividad Shelter</td>\n",
       "      <td>emergencyshelter</td>\n",
       "      <td>Marina</td>\n",
       "      <td>93933</td>\n",
       "      <td>0.0</td>\n",
       "    </tr>\n",
       "    <tr>\n",
       "      <th>173782</th>\n",
       "      <td>white</td>\n",
       "      <td>latino</td>\n",
       "      <td>male</td>\n",
       "      <td>False</td>\n",
       "      <td>314084</td>\n",
       "      <td>10</td>\n",
       "      <td>93905</td>\n",
       "      <td>2014-05-06</td>\n",
       "      <td>2014-09-30</td>\n",
       "      <td>2101</td>\n",
       "      <td>cat1homeless</td>\n",
       "      <td>emershelter</td>\n",
       "      <td>CA-506</td>\n",
       "      <td>314080</td>\n",
       "      <td>False</td>\n",
       "      <td>True</td>\n",
       "      <td>2</td>\n",
       "      <td>NaN</td>\n",
       "      <td>False</td>\n",
       "      <td>False</td>\n",
       "      <td>NaT</td>\n",
       "      <td>True</td>\n",
       "      <td>12</td>\n",
       "      <td>False</td>\n",
       "      <td>147</td>\n",
       "      <td>NaN</td>\n",
       "      <td>False</td>\n",
       "      <td>None</td>\n",
       "      <td>None</td>\n",
       "      <td>MOSBE SOP - Natividad Shelter</td>\n",
       "      <td>emergencyshelter</td>\n",
       "      <td>Marina</td>\n",
       "      <td>93933</td>\n",
       "      <td>0.0</td>\n",
       "    </tr>\n",
       "    <tr>\n",
       "      <th>173783</th>\n",
       "      <td>white</td>\n",
       "      <td>latino</td>\n",
       "      <td>female</td>\n",
       "      <td>False</td>\n",
       "      <td>314085</td>\n",
       "      <td>12</td>\n",
       "      <td>93905</td>\n",
       "      <td>2014-05-06</td>\n",
       "      <td>2014-09-30</td>\n",
       "      <td>2101</td>\n",
       "      <td>cat1homeless</td>\n",
       "      <td>emershelter</td>\n",
       "      <td>CA-506</td>\n",
       "      <td>314080</td>\n",
       "      <td>False</td>\n",
       "      <td>True</td>\n",
       "      <td>2</td>\n",
       "      <td>NaN</td>\n",
       "      <td>False</td>\n",
       "      <td>False</td>\n",
       "      <td>NaT</td>\n",
       "      <td>True</td>\n",
       "      <td>12</td>\n",
       "      <td>False</td>\n",
       "      <td>147</td>\n",
       "      <td>NaN</td>\n",
       "      <td>False</td>\n",
       "      <td>None</td>\n",
       "      <td>None</td>\n",
       "      <td>MOSBE SOP - Natividad Shelter</td>\n",
       "      <td>emergencyshelter</td>\n",
       "      <td>Marina</td>\n",
       "      <td>93933</td>\n",
       "      <td>0.0</td>\n",
       "    </tr>\n",
       "    <tr>\n",
       "      <th>173803</th>\n",
       "      <td>white</td>\n",
       "      <td>latino</td>\n",
       "      <td>female</td>\n",
       "      <td>False</td>\n",
       "      <td>201286</td>\n",
       "      <td>32</td>\n",
       "      <td>93905</td>\n",
       "      <td>2013-02-08</td>\n",
       "      <td>2013-04-27</td>\n",
       "      <td>2101</td>\n",
       "      <td>cat1homeless</td>\n",
       "      <td>friend</td>\n",
       "      <td>NaN</td>\n",
       "      <td>201286</td>\n",
       "      <td>False</td>\n",
       "      <td>False</td>\n",
       "      <td>NaN</td>\n",
       "      <td>NaN</td>\n",
       "      <td>False</td>\n",
       "      <td>False</td>\n",
       "      <td>NaT</td>\n",
       "      <td>True</td>\n",
       "      <td>12</td>\n",
       "      <td>False</td>\n",
       "      <td>78</td>\n",
       "      <td>NaN</td>\n",
       "      <td>False</td>\n",
       "      <td>foodstamps</td>\n",
       "      <td>None</td>\n",
       "      <td>MOSBE SOP - Natividad Shelter</td>\n",
       "      <td>emergencyshelter</td>\n",
       "      <td>Marina</td>\n",
       "      <td>93933</td>\n",
       "      <td>0.0</td>\n",
       "    </tr>\n",
       "  </tbody>\n",
       "</table>\n",
       "</div>"
      ],
      "text/plain": [
       "              race ethnicity  gender veteran_status  project_entry_id  \\\n",
       "Personal ID                                                             \n",
       "173781       white    latino  female          False            252608   \n",
       "173781       white    latino  female          False            314080   \n",
       "173782       white    latino    male          False            314084   \n",
       "173783       white    latino  female          False            314085   \n",
       "173803       white    latino  female          False            201286   \n",
       "\n",
       "             client_age_at_entry last_permanent_zip entry_date  exit_date  \\\n",
       "Personal ID                                                                 \n",
       "173781                        34              93907 2014-02-28 2014-02-28   \n",
       "173781                        35              93907 2014-05-06 2014-09-30   \n",
       "173782                        10              93905 2014-05-06 2014-09-30   \n",
       "173783                        12              93905 2014-05-06 2014-09-30   \n",
       "173803                        32              93905 2013-02-08 2013-04-27   \n",
       "\n",
       "             project_id housing_status_project_start  \\\n",
       "Personal ID                                            \n",
       "173781             2104                       atrisk   \n",
       "173781             2101                 cat1homeless   \n",
       "173782             2101                 cat1homeless   \n",
       "173783             2101                 cat1homeless   \n",
       "173803             2101                 cat1homeless   \n",
       "\n",
       "            living_situation_before_program_entry client_location  \\\n",
       "Personal ID                                                         \n",
       "173781                                     rental             NaN   \n",
       "173781                                emershelter          CA-506   \n",
       "173782                                emershelter          CA-506   \n",
       "173783                                emershelter          CA-506   \n",
       "173803                                     friend             NaN   \n",
       "\n",
       "             household_id disabling_condition continuously_homeless_one_year  \\\n",
       "Personal ID                                                                    \n",
       "173781             252608               False                          False   \n",
       "173781             314080               False                          False   \n",
       "173782             314080               False                           True   \n",
       "173783             314080               False                           True   \n",
       "173803             201286               False                          False   \n",
       "\n",
       "            times_homeless_past_three_years months_homeless_this_time  \\\n",
       "Personal ID                                                             \n",
       "173781                                  NaN                       NaN   \n",
       "173781                                    2                       NaN   \n",
       "173782                                    2                       NaN   \n",
       "173783                                    2                       NaN   \n",
       "173803                                  NaN                       NaN   \n",
       "\n",
       "            chronic_homeless in_permanent_housing residential_move_in_date  \\\n",
       "Personal ID                                                                  \n",
       "173781                 False                False                      NaT   \n",
       "173781                 False                False                      NaT   \n",
       "173782                 False                False                      NaT   \n",
       "173783                 False                False                      NaT   \n",
       "173803                 False                False                      NaT   \n",
       "\n",
       "            domestic_violence_victim months_ago_dv_occurred  \\\n",
       "Personal ID                                                   \n",
       "173781                          True                     24   \n",
       "173781                          True                     12   \n",
       "173782                          True                     12   \n",
       "173783                          True                     12   \n",
       "173803                          True                     12   \n",
       "\n",
       "            dv_currently_fleeing  days_enrolled  days_to_residential_move_in  \\\n",
       "Personal ID                                                                    \n",
       "173781                     False              0                          NaN   \n",
       "173781                     False            147                          NaN   \n",
       "173782                     False            147                          NaN   \n",
       "173783                     False            147                          NaN   \n",
       "173803                     False             78                          NaN   \n",
       "\n",
       "            head_of_household noncash_benefit disability_type  \\\n",
       "Personal ID                                                     \n",
       "173781                  False      foodstamps            None   \n",
       "173781                  False      foodstamps            None   \n",
       "173782                  False            None            None   \n",
       "173783                  False            None            None   \n",
       "173803                  False      foodstamps            None   \n",
       "\n",
       "                                                  project_name  \\\n",
       "Personal ID                                                      \n",
       "173781       MOSBE SOP - Mobile Outreach Shelter Program - ...   \n",
       "173781                           MOSBE SOP - Natividad Shelter   \n",
       "173782                           MOSBE SOP - Natividad Shelter   \n",
       "173783                           MOSBE SOP - Natividad Shelter   \n",
       "173803                           MOSBE SOP - Natividad Shelter   \n",
       "\n",
       "            project_type_code address_city  address_postal_code  \\\n",
       "Personal ID                                                       \n",
       "173781         streetoutreach          NaN                93933   \n",
       "173781       emergencyshelter       Marina                93933   \n",
       "173782       emergencyshelter       Marina                93933   \n",
       "173783       emergencyshelter       Marina                93933   \n",
       "173803       emergencyshelter       Marina                93933   \n",
       "\n",
       "             times_in_permanent_housing  \n",
       "Personal ID                              \n",
       "173781                              0.0  \n",
       "173781                              0.0  \n",
       "173782                              0.0  \n",
       "173783                              0.0  \n",
       "173803                              0.0  "
      ]
     },
     "execution_count": 4,
     "metadata": {},
     "output_type": "execute_result"
    }
   ],
   "source": [
    "# create new column with a numeric value for the variable 'In Permanent Housing'\n",
    "df_enroll['category In Permanent Housing'] = df_enroll['In Permanent Housing'].apply(lambda x: 1 if x==True else 0)\n",
    "\n",
    "# create a dataframe of only the variables that are to be grouped\n",
    "# select only the people that have been in permanent housing before\n",
    "# group dataframe by Personal ID and sum the times that this person was in permanent housing\n",
    "# rename the column with the sum of the grouped rows to the number of times this person had been in permanent housing\n",
    "df_housing = df_enroll.reset_index()[['Personal ID', 'category In Permanent Housing']]\n",
    "\n",
    "df_housing = df_housing[df_housing['category In Permanent Housing']==1] \\\n",
    "                        .groupby(by=['Personal ID']) \\\n",
    "                        .sum() \\\n",
    "                        .rename(columns={'category In Permanent Housing': 'times_in_permanent_housing'})\n",
    "\n",
    "# merge the dataframe that contains the number of times enrolled with the large dataframe\n",
    "df = df.merge(df_housing, how='left', left_index=True, right_index=True)\n",
    "# replace the missing values in the column times_enrolled with 0 \n",
    "df['times_in_permanent_housing'].fillna(0, inplace=True)\n",
    "\n",
    "df.head()"
   ]
  },
  {
   "cell_type": "code",
   "execution_count": 5,
   "metadata": {
    "collapsed": false
   },
   "outputs": [
    {
     "data": {
      "text/plain": [
       "(58209, 34)"
      ]
     },
     "execution_count": 5,
     "metadata": {},
     "output_type": "execute_result"
    }
   ],
   "source": [
    "# number of records in the dataset\n",
    "df.shape"
   ]
  },
  {
   "cell_type": "markdown",
   "metadata": {},
   "source": [
    "### Determine whether rapid rehousing is essentially a signal for getting into permanent housing\n",
    "- show the distribution of the people that received rapid rehousing and received permanent housing versus the people that did not receive permanent housing"
   ]
  },
  {
   "cell_type": "code",
   "execution_count": 7,
   "metadata": {
    "collapsed": false
   },
   "outputs": [
    {
     "data": {
      "text/plain": [
       "(54400, 33)"
      ]
     },
     "execution_count": 7,
     "metadata": {},
     "output_type": "execute_result"
    }
   ],
   "source": [
    "# address postal code for the same organization (project name) is not consistent, therefore, remove this variable\n",
    "# remove duplicated rows\n",
    "\n",
    "df2 = df.drop('address_postal_code', axis=1)\n",
    "df2 = df2.drop_duplicates()\n",
    "df2.shape"
   ]
  },
  {
   "cell_type": "code",
   "execution_count": 8,
   "metadata": {
    "collapsed": false
   },
   "outputs": [
    {
     "data": {
      "text/plain": [
       "array(['streetoutreach', 'emergencyshelter', 'other',\n",
       "       'transitionalhousing', 'servicesonly', 'homelessnessprevention',\n",
       "       'rapidrehousing', 'permanentsupportivehousing'], dtype=object)"
      ]
     },
     "execution_count": 8,
     "metadata": {},
     "output_type": "execute_result"
    }
   ],
   "source": [
    "df2.project_type_code.unique()"
   ]
  },
  {
   "cell_type": "code",
   "execution_count": 9,
   "metadata": {
    "collapsed": false
   },
   "outputs": [],
   "source": [
    "# select only the cases where 'project_type_code' is 'rapidrehousing'\n",
    "df_rapidrehousing = df2[(df2['project_type_code'] == 'rapidrehousing')]\n",
    "\n",
    "# df_rapidrehousing = df_rapidrehousing[['project_type_code', 'in_permanent_housing']]"
   ]
  },
  {
   "cell_type": "code",
   "execution_count": 10,
   "metadata": {
    "collapsed": false
   },
   "outputs": [
    {
     "data": {
      "text/plain": [
       "False    627\n",
       "True     615\n",
       "dtype: int64"
      ]
     },
     "execution_count": 10,
     "metadata": {},
     "output_type": "execute_result"
    }
   ],
   "source": [
    "pd.value_counts(df_rapidrehousing['in_permanent_housing'].values, sort=False)"
   ]
  },
  {
   "cell_type": "markdown",
   "metadata": {},
   "source": [
    "### When address postal code is removed from the dataset, rapid rehousing leads in more cases not to permanent housing compared to receiving permanent housing"
   ]
  },
  {
   "cell_type": "code",
   "execution_count": 11,
   "metadata": {
    "collapsed": false
   },
   "outputs": [
    {
     "data": {
      "text/plain": [
       "<matplotlib.axes._subplots.AxesSubplot at 0x113c981d0>"
      ]
     },
     "execution_count": 11,
     "metadata": {},
     "output_type": "execute_result"
    },
    {
     "data": {
      "image/png": "[encoded data removed]",
      "text/plain": [
       "<matplotlib.figure.Figure at 0x113c98450>"
      ]
     },
     "metadata": {
      "image/png": {
       "height": 357,
       "width": 484
      }
     },
     "output_type": "display_data"
    }
   ],
   "source": [
    "df_rapidrehousing['in_permanent_housing'].value_counts().plot(kind='bar')"
   ]
  },
  {
   "cell_type": "markdown",
   "metadata": {},
   "source": [
    "Almost 50% of the people that received rapidrehousing got in permanent housing, whereas the other 50% didn't"
   ]
  },
  {
   "cell_type": "markdown",
   "metadata": {
    "collapsed": false
   },
   "source": [
    "### Determine how long people spend in rapid rehousing before they receive permanent housing\n",
    "Assume that people that received permanent housing were for a shorter amount of time in rapid rehousing than \tpeople that did not receive permanent housing\n",
    "1. Show a frequency distribution of the time that people spend in rapid rehousing and received permanent housing (*days to residential move in*)\n",
    "2. Show a frequency distribution of the time that people spend in rapid rehousing and did not receive permanent \thousing (*days enrolled*)"
   ]
  },
  {
   "cell_type": "code",
   "execution_count": 14,
   "metadata": {
    "collapsed": false
   },
   "outputs": [
    {
     "data": {
      "text/html": [
       "<div>\n",
       "<table border=\"1\" class=\"dataframe\">\n",
       "  <thead>\n",
       "    <tr style=\"text-align: right;\">\n",
       "      <th></th>\n",
       "      <th>race</th>\n",
       "      <th>ethnicity</th>\n",
       "      <th>gender</th>\n",
       "      <th>veteran_status</th>\n",
       "      <th>project_entry_id</th>\n",
       "      <th>client_age_at_entry</th>\n",
       "      <th>last_permanent_zip</th>\n",
       "      <th>entry_date</th>\n",
       "      <th>exit_date</th>\n",
       "      <th>project_id</th>\n",
       "      <th>housing_status_project_start</th>\n",
       "      <th>living_situation_before_program_entry</th>\n",
       "      <th>client_location</th>\n",
       "      <th>household_id</th>\n",
       "      <th>disabling_condition</th>\n",
       "      <th>continuously_homeless_one_year</th>\n",
       "      <th>times_homeless_past_three_years</th>\n",
       "      <th>months_homeless_this_time</th>\n",
       "      <th>chronic_homeless</th>\n",
       "      <th>in_permanent_housing</th>\n",
       "      <th>residential_move_in_date</th>\n",
       "      <th>domestic_violence_victim</th>\n",
       "      <th>months_ago_dv_occurred</th>\n",
       "      <th>dv_currently_fleeing</th>\n",
       "      <th>days_enrolled</th>\n",
       "      <th>days_to_residential_move_in</th>\n",
       "      <th>head_of_household</th>\n",
       "      <th>noncash_benefit</th>\n",
       "      <th>disability_type</th>\n",
       "      <th>project_name</th>\n",
       "      <th>project_type_code</th>\n",
       "      <th>address_city</th>\n",
       "      <th>times_in_permanent_housing</th>\n",
       "    </tr>\n",
       "    <tr>\n",
       "      <th>Personal ID</th>\n",
       "      <th></th>\n",
       "      <th></th>\n",
       "      <th></th>\n",
       "      <th></th>\n",
       "      <th></th>\n",
       "      <th></th>\n",
       "      <th></th>\n",
       "      <th></th>\n",
       "      <th></th>\n",
       "      <th></th>\n",
       "      <th></th>\n",
       "      <th></th>\n",
       "      <th></th>\n",
       "      <th></th>\n",
       "      <th></th>\n",
       "      <th></th>\n",
       "      <th></th>\n",
       "      <th></th>\n",
       "      <th></th>\n",
       "      <th></th>\n",
       "      <th></th>\n",
       "      <th></th>\n",
       "      <th></th>\n",
       "      <th></th>\n",
       "      <th></th>\n",
       "      <th></th>\n",
       "      <th></th>\n",
       "      <th></th>\n",
       "      <th></th>\n",
       "      <th></th>\n",
       "      <th></th>\n",
       "      <th></th>\n",
       "      <th></th>\n",
       "    </tr>\n",
       "  </thead>\n",
       "  <tbody>\n",
       "    <tr>\n",
       "      <th>174275</th>\n",
       "      <td>white</td>\n",
       "      <td>nonlatino</td>\n",
       "      <td>male</td>\n",
       "      <td>True</td>\n",
       "      <td>469696</td>\n",
       "      <td>48</td>\n",
       "      <td>93905</td>\n",
       "      <td>2015-01-20</td>\n",
       "      <td>2015-06-01</td>\n",
       "      <td>3385</td>\n",
       "      <td>cat1homeless</td>\n",
       "      <td>streets</td>\n",
       "      <td>CA-506</td>\n",
       "      <td>469696</td>\n",
       "      <td>True</td>\n",
       "      <td>True</td>\n",
       "      <td>2</td>\n",
       "      <td>NaN</td>\n",
       "      <td>True</td>\n",
       "      <td>True</td>\n",
       "      <td>2015-02-01</td>\n",
       "      <td>False</td>\n",
       "      <td>NaN</td>\n",
       "      <td>False</td>\n",
       "      <td>132</td>\n",
       "      <td>12.0</td>\n",
       "      <td>True</td>\n",
       "      <td>None</td>\n",
       "      <td>chronichealth</td>\n",
       "      <td>MOSBE HRC - SSVF- P1 - HRC RRH</td>\n",
       "      <td>rapidrehousing</td>\n",
       "      <td>Salinas</td>\n",
       "      <td>2.0</td>\n",
       "    </tr>\n",
       "    <tr>\n",
       "      <th>174757</th>\n",
       "      <td>white</td>\n",
       "      <td>latino</td>\n",
       "      <td>male</td>\n",
       "      <td>True</td>\n",
       "      <td>432480</td>\n",
       "      <td>53</td>\n",
       "      <td>93901</td>\n",
       "      <td>2014-10-01</td>\n",
       "      <td>2015-09-04</td>\n",
       "      <td>3382</td>\n",
       "      <td>cat1homeless</td>\n",
       "      <td>streets</td>\n",
       "      <td>CA-506</td>\n",
       "      <td>432480</td>\n",
       "      <td>True</td>\n",
       "      <td>True</td>\n",
       "      <td>2</td>\n",
       "      <td>24</td>\n",
       "      <td>True</td>\n",
       "      <td>True</td>\n",
       "      <td>2015-08-19</td>\n",
       "      <td>False</td>\n",
       "      <td>NaN</td>\n",
       "      <td>False</td>\n",
       "      <td>338</td>\n",
       "      <td>322.0</td>\n",
       "      <td>True</td>\n",
       "      <td>foodstamps</td>\n",
       "      <td>mentalhealth</td>\n",
       "      <td>MOSBE HRC - SSVF- P2 HRC - RRH- Monterey/San B...</td>\n",
       "      <td>rapidrehousing</td>\n",
       "      <td>Salinas</td>\n",
       "      <td>2.0</td>\n",
       "    </tr>\n",
       "    <tr>\n",
       "      <th>174839</th>\n",
       "      <td>black</td>\n",
       "      <td>latino</td>\n",
       "      <td>male</td>\n",
       "      <td>True</td>\n",
       "      <td>443047</td>\n",
       "      <td>65</td>\n",
       "      <td>93940</td>\n",
       "      <td>2015-03-19</td>\n",
       "      <td>2016-04-21</td>\n",
       "      <td>3387</td>\n",
       "      <td>cat1homeless</td>\n",
       "      <td>transitionalhousing</td>\n",
       "      <td>CA-506</td>\n",
       "      <td>443047</td>\n",
       "      <td>True</td>\n",
       "      <td>False</td>\n",
       "      <td>2</td>\n",
       "      <td>24</td>\n",
       "      <td>False</td>\n",
       "      <td>True</td>\n",
       "      <td>2016-03-07</td>\n",
       "      <td>False</td>\n",
       "      <td>NaN</td>\n",
       "      <td>False</td>\n",
       "      <td>399</td>\n",
       "      <td>354.0</td>\n",
       "      <td>True</td>\n",
       "      <td>None</td>\n",
       "      <td>chronichealth</td>\n",
       "      <td>MOSBE HRC - SSVF- P1 - VTC RRH</td>\n",
       "      <td>rapidrehousing</td>\n",
       "      <td>Salinas</td>\n",
       "      <td>1.0</td>\n",
       "    </tr>\n",
       "    <tr>\n",
       "      <th>175160</th>\n",
       "      <td>black</td>\n",
       "      <td>nonlatino</td>\n",
       "      <td>male</td>\n",
       "      <td>True</td>\n",
       "      <td>471957</td>\n",
       "      <td>60</td>\n",
       "      <td>93901</td>\n",
       "      <td>2015-06-11</td>\n",
       "      <td>2015-09-29</td>\n",
       "      <td>3385</td>\n",
       "      <td>cat1homeless</td>\n",
       "      <td>streets</td>\n",
       "      <td>CA-508</td>\n",
       "      <td>471957</td>\n",
       "      <td>False</td>\n",
       "      <td>False</td>\n",
       "      <td>1</td>\n",
       "      <td>7</td>\n",
       "      <td>False</td>\n",
       "      <td>True</td>\n",
       "      <td>2015-06-16</td>\n",
       "      <td>False</td>\n",
       "      <td>NaN</td>\n",
       "      <td>False</td>\n",
       "      <td>110</td>\n",
       "      <td>5.0</td>\n",
       "      <td>True</td>\n",
       "      <td>foodstamps</td>\n",
       "      <td>physical</td>\n",
       "      <td>MOSBE HRC - SSVF- P1 - HRC RRH</td>\n",
       "      <td>rapidrehousing</td>\n",
       "      <td>Salinas</td>\n",
       "      <td>1.0</td>\n",
       "    </tr>\n",
       "    <tr>\n",
       "      <th>176042</th>\n",
       "      <td>white</td>\n",
       "      <td>nonlatino</td>\n",
       "      <td>male</td>\n",
       "      <td>True</td>\n",
       "      <td>445127</td>\n",
       "      <td>58</td>\n",
       "      <td>93901</td>\n",
       "      <td>2015-03-17</td>\n",
       "      <td>2015-06-23</td>\n",
       "      <td>3382</td>\n",
       "      <td>unknown</td>\n",
       "      <td>streets</td>\n",
       "      <td>CA-506</td>\n",
       "      <td>445127</td>\n",
       "      <td>True</td>\n",
       "      <td>False</td>\n",
       "      <td>1</td>\n",
       "      <td>0</td>\n",
       "      <td>False</td>\n",
       "      <td>True</td>\n",
       "      <td>2015-05-15</td>\n",
       "      <td>False</td>\n",
       "      <td>NaN</td>\n",
       "      <td>False</td>\n",
       "      <td>98</td>\n",
       "      <td>59.0</td>\n",
       "      <td>True</td>\n",
       "      <td>foodstamps</td>\n",
       "      <td>chronichealth</td>\n",
       "      <td>MOSBE HRC - SSVF- P2 HRC - RRH- Monterey/San B...</td>\n",
       "      <td>rapidrehousing</td>\n",
       "      <td>Salinas</td>\n",
       "      <td>1.0</td>\n",
       "    </tr>\n",
       "  </tbody>\n",
       "</table>\n",
       "</div>"
      ],
      "text/plain": [
       "              race  ethnicity gender veteran_status  project_entry_id  \\\n",
       "Personal ID                                                             \n",
       "174275       white  nonlatino   male           True            469696   \n",
       "174757       white     latino   male           True            432480   \n",
       "174839       black     latino   male           True            443047   \n",
       "175160       black  nonlatino   male           True            471957   \n",
       "176042       white  nonlatino   male           True            445127   \n",
       "\n",
       "             client_age_at_entry last_permanent_zip entry_date  exit_date  \\\n",
       "Personal ID                                                                 \n",
       "174275                        48              93905 2015-01-20 2015-06-01   \n",
       "174757                        53              93901 2014-10-01 2015-09-04   \n",
       "174839                        65              93940 2015-03-19 2016-04-21   \n",
       "175160                        60              93901 2015-06-11 2015-09-29   \n",
       "176042                        58              93901 2015-03-17 2015-06-23   \n",
       "\n",
       "             project_id housing_status_project_start  \\\n",
       "Personal ID                                            \n",
       "174275             3385                 cat1homeless   \n",
       "174757             3382                 cat1homeless   \n",
       "174839             3387                 cat1homeless   \n",
       "175160             3385                 cat1homeless   \n",
       "176042             3382                      unknown   \n",
       "\n",
       "            living_situation_before_program_entry client_location  \\\n",
       "Personal ID                                                         \n",
       "174275                                    streets          CA-506   \n",
       "174757                                    streets          CA-506   \n",
       "174839                        transitionalhousing          CA-506   \n",
       "175160                                    streets          CA-508   \n",
       "176042                                    streets          CA-506   \n",
       "\n",
       "             household_id disabling_condition continuously_homeless_one_year  \\\n",
       "Personal ID                                                                    \n",
       "174275             469696                True                           True   \n",
       "174757             432480                True                           True   \n",
       "174839             443047                True                          False   \n",
       "175160             471957               False                          False   \n",
       "176042             445127                True                          False   \n",
       "\n",
       "            times_homeless_past_three_years months_homeless_this_time  \\\n",
       "Personal ID                                                             \n",
       "174275                                    2                       NaN   \n",
       "174757                                    2                        24   \n",
       "174839                                    2                        24   \n",
       "175160                                    1                         7   \n",
       "176042                                    1                         0   \n",
       "\n",
       "            chronic_homeless in_permanent_housing residential_move_in_date  \\\n",
       "Personal ID                                                                  \n",
       "174275                  True                 True               2015-02-01   \n",
       "174757                  True                 True               2015-08-19   \n",
       "174839                 False                 True               2016-03-07   \n",
       "175160                 False                 True               2015-06-16   \n",
       "176042                 False                 True               2015-05-15   \n",
       "\n",
       "            domestic_violence_victim months_ago_dv_occurred  \\\n",
       "Personal ID                                                   \n",
       "174275                         False                    NaN   \n",
       "174757                         False                    NaN   \n",
       "174839                         False                    NaN   \n",
       "175160                         False                    NaN   \n",
       "176042                         False                    NaN   \n",
       "\n",
       "            dv_currently_fleeing  days_enrolled  days_to_residential_move_in  \\\n",
       "Personal ID                                                                    \n",
       "174275                     False            132                         12.0   \n",
       "174757                     False            338                        322.0   \n",
       "174839                     False            399                        354.0   \n",
       "175160                     False            110                          5.0   \n",
       "176042                     False             98                         59.0   \n",
       "\n",
       "            head_of_household noncash_benefit disability_type  \\\n",
       "Personal ID                                                     \n",
       "174275                   True            None   chronichealth   \n",
       "174757                   True      foodstamps    mentalhealth   \n",
       "174839                   True            None   chronichealth   \n",
       "175160                   True      foodstamps        physical   \n",
       "176042                   True      foodstamps   chronichealth   \n",
       "\n",
       "                                                  project_name  \\\n",
       "Personal ID                                                      \n",
       "174275                          MOSBE HRC - SSVF- P1 - HRC RRH   \n",
       "174757       MOSBE HRC - SSVF- P2 HRC - RRH- Monterey/San B...   \n",
       "174839                          MOSBE HRC - SSVF- P1 - VTC RRH   \n",
       "175160                          MOSBE HRC - SSVF- P1 - HRC RRH   \n",
       "176042       MOSBE HRC - SSVF- P2 HRC - RRH- Monterey/San B...   \n",
       "\n",
       "            project_type_code address_city  times_in_permanent_housing  \n",
       "Personal ID                                                             \n",
       "174275         rapidrehousing      Salinas                         2.0  \n",
       "174757         rapidrehousing      Salinas                         2.0  \n",
       "174839         rapidrehousing      Salinas                         1.0  \n",
       "175160         rapidrehousing      Salinas                         1.0  \n",
       "176042         rapidrehousing      Salinas                         1.0  "
      ]
     },
     "execution_count": 14,
     "metadata": {},
     "output_type": "execute_result"
    }
   ],
   "source": [
    "# 1.\n",
    "# create dataframe of people that were in rapid rehousing and received permanent housing \n",
    "# and where days to residential move in is not missing \n",
    "df_rapidrehousing_permanent_housing = df_rapidrehousing[(df_rapidrehousing['in_permanent_housing'] == True) & df_rapidrehousing['days_to_residential_move_in'].notnull()]\n",
    "df_rapidrehousing_permanent_housing.head()"
   ]
  },
  {
   "cell_type": "code",
   "execution_count": 17,
   "metadata": {
    "collapsed": false
   },
   "outputs": [
    {
     "data": {
      "text/plain": [
       "(532, 33)"
      ]
     },
     "execution_count": 17,
     "metadata": {},
     "output_type": "execute_result"
    }
   ],
   "source": [
    "df_rapidrehousing_permanent_housing_resetidx = df_rapidrehousing_permanent_housing.reset_index()\n",
    "\n",
    "df_rapidrehousing_permanent_housing.shape\n",
    "# len(df_rapidrehousing_permanent_housing_resetidx['Personal ID'].unique())"
   ]
  },
  {
   "cell_type": "markdown",
   "metadata": {
    "collapsed": true
   },
   "source": [
    "Number of people that received rapid rehousing and permanent housing:\n",
    "\n",
    "- 532 records\n",
    "- 516 unique ids"
   ]
  },
  {
   "cell_type": "code",
   "execution_count": 18,
   "metadata": {
    "collapsed": false
   },
   "outputs": [
    {
     "data": {
      "text/plain": [
       "117"
      ]
     },
     "execution_count": 18,
     "metadata": {},
     "output_type": "execute_result"
    }
   ],
   "source": [
    "# count number of records where times_in_permanent_housing > 1.0\n",
    "len(df_rapidrehousing_permanent_housing[(df_rapidrehousing_permanent_housing['times_in_permanent_housing'] > 1.0)])"
   ]
  },
  {
   "cell_type": "code",
   "execution_count": 34,
   "metadata": {
    "collapsed": false
   },
   "outputs": [
    {
     "data": {
      "text/plain": [
       "443.0"
      ]
     },
     "execution_count": 34,
     "metadata": {},
     "output_type": "execute_result"
    }
   ],
   "source": [
    "# max number of days to residential move in\n",
    "df_rapidrehousing_permanent_housing['days_to_residential_move_in'].max()"
   ]
  },
  {
   "cell_type": "code",
   "execution_count": 39,
   "metadata": {
    "collapsed": false
   },
   "outputs": [
    {
     "data": {
      "image/png": "[encoded data removed]",
      "text/plain": [
       "<matplotlib.figure.Figure at 0x11fcc8590>"
      ]
     },
     "metadata": {
      "image/png": {
       "height": 356,
       "width": 478
      }
     },
     "output_type": "display_data"
    }
   ],
   "source": [
    "n = 443\n",
    "ax = df_rapidrehousing_permanent_housing['days_to_residential_move_in'].value_counts().plot(kind='bar', title='Frequency distribution for number of days to residential move in')\n",
    "ticks = ax.xaxis.get_ticklocs()\n",
    "ax.xaxis.set_ticks(ticks[::n])\n",
    "\n",
    "ax.figure.show()"
   ]
  },
  {
   "cell_type": "code",
   "execution_count": 43,
   "metadata": {
    "collapsed": true
   },
   "outputs": [],
   "source": [
    "# 2.\n",
    "# create dataframe of people that were in rapid rehousing and did not receive permanent housing \n",
    "df_rapidrehousing_not_permanent_housing = df_rapidrehousing[(df_rapidrehousing['in_permanent_housing'] == False)]"
   ]
  },
  {
   "cell_type": "code",
   "execution_count": 44,
   "metadata": {
    "collapsed": false
   },
   "outputs": [
    {
     "data": {
      "text/plain": [
       "(627, 33)"
      ]
     },
     "execution_count": 44,
     "metadata": {},
     "output_type": "execute_result"
    }
   ],
   "source": [
    "df_rapidrehousing_not_permanent_housing.shape"
   ]
  },
  {
   "cell_type": "code",
   "execution_count": 46,
   "metadata": {
    "collapsed": false
   },
   "outputs": [
    {
     "data": {
      "text/plain": [
       "835"
      ]
     },
     "execution_count": 46,
     "metadata": {},
     "output_type": "execute_result"
    }
   ],
   "source": [
    "# max number of days enrolled\n",
    "df_rapidrehousing_not_permanent_housing['days_enrolled'].max()"
   ]
  },
  {
   "cell_type": "code",
   "execution_count": 47,
   "metadata": {
    "collapsed": false
   },
   "outputs": [
    {
     "data": {
      "image/png": "[encoded data removed]",
      "text/plain": [
       "<matplotlib.figure.Figure at 0x1198cfa90>"
      ]
     },
     "metadata": {
      "image/png": {
       "height": 353,
       "width": 549
      }
     },
     "output_type": "display_data"
    }
   ],
   "source": [
    "n = 835\n",
    "ax = df_rapidrehousing_not_permanent_housing['days_enrolled'].value_counts().plot(kind='bar', title='Frequency distribution for number of days enrolled for people that did not receive permanent housing')\n",
    "ticks = ax.xaxis.get_ticklocs()\n",
    "ax.xaxis.set_ticks(ticks[::n])\n",
    "\n",
    "ax.figure.show()"
   ]
  },
  {
   "cell_type": "markdown",
   "metadata": {},
   "source": [
    "### Determine of those people that have received permanent housing before, whether rapid rehousing was effective\n",
    "- show of the people that received permanent housing multiple times the % that received rapid rehousing as their first project"
   ]
  },
  {
   "cell_type": "code",
   "execution_count": 51,
   "metadata": {
    "collapsed": false
   },
   "outputs": [
    {
     "data": {
      "text/plain": [
       "993"
      ]
     },
     "execution_count": 51,
     "metadata": {},
     "output_type": "execute_result"
    }
   ],
   "source": [
    "# show number of records that has received permanent housing multiple times \n",
    "len(df2)\n",
    "len(df2[df2['times_in_permanent_housing'] > 1.0])"
   ]
  },
  {
   "cell_type": "code",
   "execution_count": 53,
   "metadata": {
    "collapsed": false
   },
   "outputs": [],
   "source": [
    "# create a dataframe that contains the people that received permanent housing before\n",
    "df_perm_housing_before = df2[df2['times_in_permanent_housing'] > 1.0]"
   ]
  },
  {
   "cell_type": "code",
   "execution_count": 57,
   "metadata": {
    "collapsed": false
   },
   "outputs": [
    {
     "data": {
      "text/plain": [
       "rapidrehousing                40\n",
       "streetoutreach                 5\n",
       "transitionalhousing            9\n",
       "servicesonly                  23\n",
       "homelessnessprevention        63\n",
       "emergencyshelter              37\n",
       "other                         26\n",
       "permanentsupportivehousing     3\n",
       "dtype: int64"
      ]
     },
     "execution_count": 57,
     "metadata": {},
     "output_type": "execute_result"
    }
   ],
   "source": [
    "# keep the first record of each Personal ID \n",
    "# calculate the % of the people that were in rapid rehousing\n",
    "\n",
    "# reset index\n",
    "df_perm_housing_before_resetidx = df_perm_housing_before.reset_index()\n",
    "\n",
    "# get the first row of each group\n",
    "df_first_project = df_perm_housing_before_resetidx.groupby('Personal ID').first()\n",
    "\n",
    "# count project type codes\n",
    "pd.value_counts(df_first_project['project_type_code'].values, sort=False)"
   ]
  },
  {
   "cell_type": "code",
   "execution_count": 58,
   "metadata": {
    "collapsed": false
   },
   "outputs": [
    {
     "data": {
      "text/plain": [
       "(206, 33)"
      ]
     },
     "execution_count": 58,
     "metadata": {},
     "output_type": "execute_result"
    }
   ],
   "source": [
    "df_first_project.shape"
   ]
  },
  {
   "cell_type": "code",
   "execution_count": 59,
   "metadata": {
    "collapsed": false
   },
   "outputs": [
    {
     "data": {
      "text/plain": [
       "19.41747572815534"
      ]
     },
     "execution_count": 59,
     "metadata": {},
     "output_type": "execute_result"
    }
   ],
   "source": [
    "# percentage of people that received rapid rehousing and later returned as homelessness\n",
    "40/206*100"
   ]
  }
 ],
 "metadata": {
  "kernelspec": {
   "display_name": "Python 2",
   "language": "python",
   "name": "python2"
  },
  "language_info": {
   "codemirror_mode": {
    "name": "ipython",
    "version": 2
   },
   "file_extension": ".py",
   "mimetype": "text/x-python",
   "name": "python",
   "nbconvert_exporter": "python",
   "pygments_lexer": "ipython2",
   "version": "2.7.11"
  }
 },
 "nbformat": 4,
 "nbformat_minor": 0
}
